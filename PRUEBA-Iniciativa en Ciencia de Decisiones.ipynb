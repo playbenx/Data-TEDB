{
 "cells": [
  {
   "cell_type": "markdown",
   "id": "1aa4ac88",
   "metadata": {},
   "source": [
    "# 1.- DESCARGA DE DATOS DE https://tedb.ornl.gov"
   ]
  },
  {
   "cell_type": "code",
   "execution_count": 1,
   "id": "0587dd46",
   "metadata": {},
   "outputs": [],
   "source": [
    "# IMPORTAR LIBRERIAS\n",
    "\n",
    "import numpy as np\n",
    "import pandas as pd\n",
    "import yfinance as yf\n",
    "import matplotlib.pyplot as plt\n",
    "from pandas import read_html\n",
    "import os\n",
    "import requests\n",
    "import tabula\n",
    "from tabula import read_pdf\n"
   ]
  },
  {
   "cell_type": "code",
   "execution_count": 2,
   "id": "d966c6c5",
   "metadata": {
    "scrolled": true
   },
   "outputs": [],
   "source": [
    "# Colocar las URL de cada edición  a descargar. La página oficial parecía no tener un año dentro del rengo contemplado\n",
    "\n",
    "urls= ['https://tedb.ornl.gov/wp-content/uploads/2019/03/Edition27_Full_Doc.pdf',\n",
    "      'https://tedb.ornl.gov/wp-content/uploads/2019/03/Edition28_Full_Doc.pdf',\n",
    "      'https://tedb.ornl.gov/wp-content/uploads/2019/03/Edition29_Full_Doc.pdf',\n",
    "       'https://tedb.ornl.gov/wp-content/uploads/2019/03/Edition30_Full_Doc.pdf',\n",
    "       'https://tedb.ornl.gov/wp-content/uploads/2019/03/Edition31_Full_Doc.pdf',\n",
    "       'https://tedb.ornl.gov/wp-content/uploads/2019/03/Edition32_Full_Doc.pdf',\n",
    "       'https://tedb.ornl.gov/wp-content/uploads/2019/03/Edition33_Full_Doc.pdf',\n",
    "       'https://tedb.ornl.gov/wp-content/uploads/2019/03/Edition34_Full_Doc.pdf',\n",
    "       'https://tedb.ornl.gov/wp-content/uploads/2019/03/Edition35_Full_Doc.pdf',\n",
    "       'https://tedb.ornl.gov/wp-content/uploads/2019/03/Edition36_Full_Doc.pdf',\n",
    "       'https://tedb.ornl.gov/wp-content/uploads/2019/03/Edition37_Full_Doc.pdf'\n",
    "      ]"
   ]
  },
  {
   "cell_type": "code",
   "execution_count": 3,
   "id": "cefd5bb0",
   "metadata": {},
   "outputs": [],
   "source": [
    "# IMPORTANTE: cambiar la ruta de descarga en output_dir\n",
    "\n",
    "output_dir='/home/topcat/MEGA/Data Science/tec'\n",
    "\n",
    "#output_dir='https://github.com/playbenx/DS--TEDB.git'\n"
   ]
  },
  {
   "cell_type": "code",
   "execution_count": 4,
   "id": "9a54e785",
   "metadata": {},
   "outputs": [],
   "source": [
    "for i in urls:\n",
    "    response=requests.get(i)\n",
    "    if response.status_code==200:\n",
    "        file_path=os.path.join(output_dir, os.path.basename(i))\n",
    "        with open(file_path, 'wb')as f:\n",
    "            f.write(response.content)"
   ]
  },
  {
   "cell_type": "markdown",
   "id": "71bdcc71",
   "metadata": {},
   "source": [
    "# 2.- EXTRAER DATOS"
   ]
  },
  {
   "cell_type": "code",
   "execution_count": 5,
   "id": "fb7a5a68",
   "metadata": {},
   "outputs": [
    {
     "name": "stderr",
     "output_type": "stream",
     "text": [
      "Feb 23, 2024 4:41:44 PM org.apache.pdfbox.pdmodel.font.PDTrueTypeFont <init>\n",
      "WARNING: Using fallback font 'LiberationSerif' for 'TimesNewRomanPSMT'\n",
      "Feb 23, 2024 4:41:44 PM org.apache.pdfbox.pdmodel.font.PDTrueTypeFont <init>\n",
      "WARNING: Using fallback font 'LiberationSerif-Italic' for 'TimesNewRomanPS-ItalicMT'\n",
      "Feb 23, 2024 4:41:44 PM org.apache.pdfbox.pdmodel.font.PDTrueTypeFont <init>\n",
      "WARNING: Using fallback font 'LiberationSerif-Bold' for 'TimesNewRomanPS-BoldMT'\n"
     ]
    },
    {
     "name": "stdout",
     "output_type": "stream",
     "text": [
      "Datos extraídos de la tabla:\n",
      "   Unnamed: 0 Unnamed: 1 Unnamed: 2 Unnamed: 3 Unnamed: 4 Nonhighway  \\\n",
      "0        Year        Air      Water   Pipeline       Rail   subtotal   \n",
      "1        1970      1,287        836        826        537      3,486   \n",
      "2        1975      1,234        927        680        540      3,381   \n",
      "3        1980      1,434      1,393        734        570      4,130   \n",
      "4        1981      1,453      1,270        742        541      4,006   \n",
      "5        1982      1,445      1,063        694        460      3,662   \n",
      "6        1983      1,440        974        583        455      3,452   \n",
      "7        1984      1,609        964        623        502      3,699   \n",
      "8        1985      1,677        871        597        468      3,613   \n",
      "9        1986      1,823      1,323        578        454      4,178   \n",
      "10       1987      1,899      1,378        613        464      4,354   \n",
      "11       1988      1,978      1,417        712        476      4,583   \n",
      "12       1989      1,981      1,516        729        478      4,705   \n",
      "13       1990      2,046      1,442        760        471      4,719   \n",
      "14       1991      1,916      1,523        699        442      4,580   \n",
      "15       1992      1,945      1,599        685        455      4,684   \n",
      "16       1993      1,986      1,437        723        469      4,615   \n",
      "17       1994      2,075      1,394        787        502      4,758   \n",
      "18       1995      2,141      1,468        803        523      4,935   \n",
      "19       1996      2,206      1,411        814        536      4,967   \n",
      "20       1997      2,300      1,250        856        537      4,943   \n",
      "21       1998      2,275      1,232        735        540      4,782   \n",
      "22       1999      2,483      1,367        745        560      5,156   \n",
      "23       2000      2,554      1,454        742        559      5,309   \n",
      "24       2001      2,397      1,186        724        561      4,869   \n",
      "25       2002      2,229      1,247        768        563      4,807   \n",
      "26       2003      2,260      1,074        689        575      4,597   \n",
      "27       2004      2,456      1,299        662        607      5,024   \n",
      "28       2005      2,532      1,368        681        613      5,194   \n",
      "29       2006      2,511      1,450        681        626      5,269   \n",
      "30       2007      2,509      1,559        720        610      5,399   \n",
      "31       2008      2,396      1,460        748        586      5,190   \n",
      "32       2009      2,127      1,340        771        492      4,731   \n",
      "33       2010      2,149      1,485        775        533      4,942   \n",
      "34       2011      2,157      1,392        790        560      4,900   \n",
      "35       2012      2,077      1,183        835        549      4,644   \n",
      "36       2013      2,037      1,055        942        562      4,595   \n",
      "37       2014      2,060        918        803        587      4,368   \n",
      "38       2015      2,118      1,046        767        563      4,493   \n",
      "\n",
      "              Total  \n",
      "0   transportationa  \n",
      "1            15,192  \n",
      "2            17,204  \n",
      "3            18,760  \n",
      "4            18,558  \n",
      "5            18,055  \n",
      "6            18,188  \n",
      "7            18,773  \n",
      "8            19,017  \n",
      "9            20,086  \n",
      "10           20,578  \n",
      "11           21,131  \n",
      "12           21,487  \n",
      "13           21,383  \n",
      "14           20,985  \n",
      "15           21,646  \n",
      "16           22,125  \n",
      "17           22,729  \n",
      "18           23,263  \n",
      "19           23,773  \n",
      "20           24,126  \n",
      "21           24,461  \n",
      "22           25,758  \n",
      "23           26,069  \n",
      "24           25,741  \n",
      "25           26,331  \n",
      "26           26,512  \n",
      "27           26,970  \n",
      "28           27,377  \n",
      "29           27,554  \n",
      "30           29,013  \n",
      "31           28,381  \n",
      "32           26,895  \n",
      "33           26,974  \n",
      "34           26,388  \n",
      "35           26,001  \n",
      "36           25,905  \n",
      "37           26,109  \n",
      "38           25,880  \n"
     ]
    },
    {
     "name": "stderr",
     "output_type": "stream",
     "text": [
      "Feb 23, 2024 4:41:45 PM org.apache.pdfbox.pdmodel.font.PDTrueTypeFont <init>\n",
      "WARNING: Using fallback font 'LiberationSerif' for 'TimesNewRomanPSMT'\n",
      "Feb 23, 2024 4:41:45 PM org.apache.pdfbox.pdmodel.font.PDTrueTypeFont <init>\n",
      "WARNING: Using fallback font 'LiberationSerif-Italic' for 'TimesNewRomanPS-ItalicMT'\n",
      "Feb 23, 2024 4:41:45 PM org.apache.pdfbox.pdmodel.font.PDTrueTypeFont <init>\n",
      "WARNING: Using fallback font 'LiberationSerif-Bold' for 'TimesNewRomanPS-BoldMT'\n"
     ]
    }
   ],
   "source": [
    "def extraer(url_pdf, pagina):\n",
    "    \n",
    "    response = requests.get(url_pdf)\n",
    "    with open('documento.pdf', 'wb') as f:\n",
    "        f.write(response.content)\n",
    "\n",
    "    \n",
    "    try:\n",
    "        df = tabula.read_pdf('documento.pdf', pages=pagina, multiple_tables=True)[0]\n",
    "        return df\n",
    "    except Exception as e:\n",
    "        print(f\"Error al extraer datos: {str(e)}\")\n",
    "        return None\n",
    "\n",
    "# \n",
    "url_pdf = 'https://tedb.ornl.gov/wp-content/uploads/2019/03/Edition36_Full_Doc.pdf'\n",
    "pagina = 65  # Cambia esto al número de página que deseas analizar\n",
    "\n",
    "\n",
    "datos_extraidos = extraer(url_pdf, pagina)\n",
    "\n",
    "\n",
    "if datos_extraidos is not None:\n",
    "    print(\"Datos extraídos de la tabla:\")\n",
    "    \n",
    "    print(datos_extraidos)\n",
    "else:\n",
    "    print(\"No se pudieron extraer datos.\")"
   ]
  },
  {
   "cell_type": "code",
   "execution_count": null,
   "id": "56402d6d",
   "metadata": {},
   "outputs": [],
   "source": []
  }
 ],
 "metadata": {
  "kernelspec": {
   "display_name": "Python 3 (ipykernel)",
   "language": "python",
   "name": "python3"
  },
  "language_info": {
   "codemirror_mode": {
    "name": "ipython",
    "version": 3
   },
   "file_extension": ".py",
   "mimetype": "text/x-python",
   "name": "python",
   "nbconvert_exporter": "python",
   "pygments_lexer": "ipython3",
   "version": "3.11.5"
  }
 },
 "nbformat": 4,
 "nbformat_minor": 5
}
